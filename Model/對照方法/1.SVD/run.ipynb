{
 "cells": [
  {
   "cell_type": "code",
   "execution_count": 1,
   "metadata": {},
   "outputs": [],
   "source": [
    "# 先import會用到的庫\n",
    "from pymongo import MongoClient\n",
    "from tqdm import tqdm\n",
    "import pandas as pd\n",
    "import numpy as np\n",
    "import matplotlib.pyplot as plt\n",
    "import seaborn as sns\n",
    "from collections import defaultdict\n",
    "import os\n",
    "import os.path\n",
    "import math\n",
    "from surprise import (Reader, Dataset, NormalPredictor, BaselineOnly,\n",
    "                      accuracy, SVD, SVDpp, NMF, KNNBasic, KNNWithMeans,\n",
    "                      KNNWithZScore, KNNBaseline)\n",
    "from surprise.model_selection import (cross_validate, KFold,\n",
    "                                      train_test_split, GridSearchCV,\n",
    "                                      RandomizedSearchCV)\n",
    "\n",
    "client = MongoClient('localhost', 27017)\n",
    "db_final = client.Yelp_Final\n",
    "review_final = db_final.review"
   ]
  },
  {
   "cell_type": "code",
   "execution_count": 2,
   "metadata": {},
   "outputs": [
    {
     "name": "stderr",
     "output_type": "stream",
     "text": [
      "Get Checkins:   0%|          | 0/61189 [00:00<?, ?it/s]c:\\Users\\Yaote\\anaconda3\\envs\\RoBERTa_pt\\Lib\\site-packages\\pymongo\\collection.py:1685: UserWarning: use an explicit session with no_cursor_timeout=True otherwise the cursor may still timeout after 30 minutes, for more info see https://mongodb.com/docs/v4.4/reference/method/cursor.noCursorTimeout/#session-idle-timeout-overrides-nocursortimeout\n",
      "  return Cursor(self, *args, **kwargs)\n",
      "Get Checkins: 100%|██████████| 61189/61189 [00:05<00:00, 11917.51it/s]\n"
     ]
    }
   ],
   "source": [
    "# 讀取資料\n",
    "checkins = dict()\n",
    "bar = tqdm(total=review_final.count_documents({}), desc='Get Checkins')\n",
    "tempIds = review_final.find({}, no_cursor_timeout=True, batch_size=10)\n",
    "for item in tempIds:\n",
    "    if item['newUserId'] not in checkins:\n",
    "        checkins[item['newUserId']] = list()\n",
    "        checkins[item['newUserId']].append([item['newBusinessId'], item['stars']])\n",
    "    else:\n",
    "        checkins[item['newUserId']].append([item['newBusinessId'], item['stars']])\n",
    "    bar.update(1)\n",
    "tempIds.close()\n",
    "bar.close()"
   ]
  },
  {
   "cell_type": "code",
   "execution_count": 3,
   "metadata": {},
   "outputs": [],
   "source": [
    "# 轉換成DataFrame並拆分成trainset和testset\n",
    "newData = list()\n",
    "for key in checkins:\n",
    "    for poi, stars in checkins[key]:\n",
    "        newData.append([key, poi, stars])\n",
    "\n",
    "columns = ['userid', 'businessid', 'stars']\n",
    "df = pd.DataFrame(newData, columns=columns)\n",
    "\n",
    "reader = Reader(rating_scale=(1,5))\n",
    "data = Dataset.load_from_df(df, reader)\n",
    "trainset, testset = train_test_split(data, test_size=0.3)"
   ]
  },
  {
   "cell_type": "code",
   "execution_count": 4,
   "metadata": {},
   "outputs": [
    {
     "name": "stdout",
     "output_type": "stream",
     "text": [
      "MAE:  0.8318\n",
      "0.8318393697477332\n",
      "RMSE: 1.0740\n",
      "1.0739678756550952\n"
     ]
    }
   ],
   "source": [
    "# SVD++ (defaults)\n",
    "svdpp = SVDpp()\n",
    "svdpp.fit(trainset)\n",
    "predictions = svdpp.test(testset)\n",
    "print(accuracy.mae(predictions))\n",
    "print(accuracy.rmse(predictions))"
   ]
  }
 ],
 "metadata": {
  "kernelspec": {
   "display_name": "RoBERTa_pt",
   "language": "python",
   "name": "python3"
  },
  "language_info": {
   "codemirror_mode": {
    "name": "ipython",
    "version": 3
   },
   "file_extension": ".py",
   "mimetype": "text/x-python",
   "name": "python",
   "nbconvert_exporter": "python",
   "pygments_lexer": "ipython3",
   "version": "3.11.9"
  }
 },
 "nbformat": 4,
 "nbformat_minor": 2
}
