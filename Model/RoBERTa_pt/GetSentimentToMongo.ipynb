{
 "cells": [
  {
   "cell_type": "code",
   "execution_count": 20,
   "metadata": {},
   "outputs": [],
   "source": [
    "'''''''''''''''''''''''''''''''''''''''''''''''''''''''''''''''''''''''''''\n",
    "說明：\n",
    "    用RoBERTa把評論資料轉成詞嵌入向量(包含情感語義等特徵)\n",
    "\n",
    "注意事項：\n",
    "    無，照順序跑下去即可\n",
    "'''''''''''''''''''''''''''''''''''''''''''''''''''''''''''''''''''''''''''\n",
    "\n",
    "import sys\n",
    "import torch\n",
    "from transformers import RobertaTokenizer, RobertaModel, logging\n",
    "from nltk.corpus import stopwords\n",
    "from nltk.tokenize import word_tokenize\n",
    "import string\n",
    "import re\n",
    "from pymongo import MongoClient\n",
    "import numpy as np\n",
    "from tqdm import tqdm\n",
    "\n",
    "def printf(format, *args):\n",
    "    sys.stdout.write(format % args)"
   ]
  },
  {
   "cell_type": "code",
   "execution_count": 2,
   "metadata": {},
   "outputs": [
    {
     "name": "stdout",
     "output_type": "stream",
     "text": [
      "cuda\n"
     ]
    }
   ],
   "source": [
    "### 檢查有沒有啟動CUDA\n",
    "\n",
    "from torch import cuda\n",
    "device = 'cuda' if cuda.is_available() else 'cpu'\n",
    "print(device)"
   ]
  },
  {
   "cell_type": "code",
   "execution_count": 3,
   "metadata": {},
   "outputs": [],
   "source": [
    "### 定義文字前處理的函數\n",
    "## 1. 用nltk移除停用詞\n",
    "## 2. 移除標點符號\n",
    "## 3. 移除空白\n",
    "## 4. 轉成小寫\n",
    "stop_words = set(stopwords.words('english'))\n",
    "translator = str.maketrans('', '', string.punctuation)\n",
    "\n",
    "def preprocess_text(text):\n",
    "    words = word_tokenize(text)\n",
    "    filtered_words = [word for word in words if not word.lower() in stop_words]\n",
    "    filtered_text = ' '.join(filtered_words)\n",
    "    removePunctuation_text = filtered_text.translate(translator)\n",
    "    removeSpace_text = re.sub(r'\\s+', ' ', removePunctuation_text).strip()\n",
    "    return removeSpace_text.lower()"
   ]
  },
  {
   "cell_type": "code",
   "execution_count": 4,
   "metadata": {},
   "outputs": [
    {
     "name": "stderr",
     "output_type": "stream",
     "text": [
      "Some weights of RobertaModel were not initialized from the model checkpoint at roberta-base and are newly initialized: ['roberta.pooler.dense.bias', 'roberta.pooler.dense.weight']\n",
      "You should probably TRAIN this model on a down-stream task to be able to use it for predictions and inference.\n"
     ]
    }
   ],
   "source": [
    "### 定義用Roberta將文字轉成詞嵌入的函數\n",
    "tokenizer = RobertaTokenizer.from_pretrained('roberta-base')\n",
    "model = RobertaModel.from_pretrained('roberta-base')\n",
    "\n",
    "def getSentimentVector(text):\n",
    "    caption = [text]\n",
    "    tokens = tokenizer(caption, return_tensors='pt', padding=True, truncation=True, max_length=512)\n",
    "    input_ids = tokens['input_ids']\n",
    "    attention_mask = tokens['attention_mask']\n",
    "    output = model(input_ids, attention_mask, output_hidden_states=True)\n",
    "\n",
    "    ### concatenate last 4 layers\n",
    "    encoded_layers = output.hidden_states[-4:]\n",
    "    token_emb = torch.cat(encoded_layers, -1)\n",
    "    \n",
    "    average_pooling = torch.mean(token_emb, dim=1).tolist()\n",
    "\n",
    "    return average_pooling[0]"
   ]
  },
  {
   "cell_type": "code",
   "execution_count": 25,
   "metadata": {},
   "outputs": [
    {
     "name": "stderr",
     "output_type": "stream",
     "text": [
      "c:\\Users\\Yaote\\anaconda3\\envs\\RoBERTa_pt\\Lib\\site-packages\\pymongo\\collection.py:1685: UserWarning: use an explicit session with no_cursor_timeout=True otherwise the cursor may still timeout after 30 minutes, for more info see https://mongodb.com/docs/v4.4/reference/method/cursor.noCursorTimeout/#session-idle-timeout-overrides-nocursortimeout\n",
      "  return Cursor(self, *args, **kwargs)\n",
      "Sentiment Analysis: 100%|██████████| 77596/77596 [58:49<00:00, 21.99it/s]\n"
     ]
    }
   ],
   "source": [
    "client = MongoClient('localhost', 27017)\n",
    "db_new = client.Yelp_New\n",
    "review_new = db_new.review\n",
    "review_sentiment = db_new.review_sentiment\n",
    "\n",
    "# totalReview = review_new.count_documents({})\n",
    "# count = 0\n",
    "bar = tqdm(total=review_new.count_documents({}), desc='Sentiment Analysis')\n",
    "tempIds = review_new.find({}, no_cursor_timeout=True, batch_size=10)\n",
    "for item in tempIds:\n",
    "    tempText = preprocess_text(item['text'])\n",
    "    item['newText'] = tempText\n",
    "    item['sentiment_vector'] = getSentimentVector(tempText)\n",
    "    review_sentiment.insert_one(item)\n",
    "    bar.update(1)\n",
    "    # count += 1\n",
    "    # if count % 10000 == 0:\n",
    "    #     printf('%d/%d done\\n', count, totalReview)\n",
    "tempIds.close()\n",
    "bar.close()\n",
    "# print('All done')"
   ]
  }
 ],
 "metadata": {
  "kernelspec": {
   "display_name": "RoBERTa_pt",
   "language": "python",
   "name": "python3"
  },
  "language_info": {
   "codemirror_mode": {
    "name": "ipython",
    "version": 3
   },
   "file_extension": ".py",
   "mimetype": "text/x-python",
   "name": "python",
   "nbconvert_exporter": "python",
   "pygments_lexer": "ipython3",
   "version": "3.11.9"
  }
 },
 "nbformat": 4,
 "nbformat_minor": 2
}
