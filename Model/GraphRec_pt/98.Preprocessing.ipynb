{
 "cells": [
  {
   "cell_type": "code",
   "execution_count": 1,
   "metadata": {},
   "outputs": [],
   "source": [
    "'''''''''''''''''''''''''''''''''''''''''''''''''''''''''''''''''''''''''''\n",
    "說明：\n",
    "    資料前處理的Code，每個Block都有註解，可以自己參考一下\n",
    "\n",
    "注意事項：\n",
    "    資料庫跟表的名字要改成自己的\n",
    "'''''''''''''''''''''''''''''''''''''''''''''''''''''''''''''''''''''''''''\n",
    "\n",
    "# 先import會用到的庫\n",
    "from pymongo import MongoClient\n",
    "import numpy as np\n",
    "import pandas as pd\n",
    "import matplotlib.pyplot as plt\n",
    "from sklearn.cluster import MeanShift, KMeans, DBSCAN, estimate_bandwidth\n",
    "from collections import defaultdict\n",
    "from datetime import datetime\n",
    "import time\n",
    "from tqdm import tqdm"
   ]
  },
  {
   "cell_type": "code",
   "execution_count": 2,
   "metadata": {},
   "outputs": [
    {
     "name": "stdout",
     "output_type": "stream",
     "text": [
      "CUDA is available\n"
     ]
    }
   ],
   "source": [
    "import torch\n",
    "if torch.cuda.is_available():\n",
    "    print('CUDA is available')\n",
    "else:\n",
    "    print('CUDA is not available')"
   ]
  },
  {
   "cell_type": "code",
   "execution_count": 5,
   "metadata": {},
   "outputs": [
    {
     "name": "stderr",
     "output_type": "stream",
     "text": [
      "ReId Business:   0%|          | 0/12360 [00:00<?, ?it/s]c:\\Users\\Yaote\\anaconda3\\envs\\RoBERTa_pt\\Lib\\site-packages\\pymongo\\collection.py:1685: UserWarning: use an explicit session with no_cursor_timeout=True otherwise the cursor may still timeout after 30 minutes, for more info see https://mongodb.com/docs/v4.4/reference/method/cursor.noCursorTimeout/#session-idle-timeout-overrides-nocursortimeout\n",
      "  return Cursor(self, *args, **kwargs)\n",
      "ReId Business: 100%|██████████| 12360/12360 [00:01<00:00, 6918.04it/s]\n"
     ]
    }
   ],
   "source": [
    "### 把business Id重新編碼\n",
    "client = MongoClient('127.0.0.1', 27017)\n",
    "db_new = client.Yelp_New\n",
    "business_new = db_new.business\n",
    "\n",
    "db_final = client.Yelp_Final\n",
    "business_final = db_final.business\n",
    "\n",
    "bar = tqdm(total=business_new.count_documents({}), desc='ReId Business')\n",
    "tempIds = business_new.find({}, no_cursor_timeout=True, batch_size=10)\n",
    "tid = 0\n",
    "for item in tempIds:\n",
    "    item['newId'] = str(tid)\n",
    "    business_final.insert_one(item)\n",
    "    tid += 1\n",
    "    bar.update(1)\n",
    "tempIds.close()\n",
    "bar.close()"
   ]
  },
  {
   "cell_type": "code",
   "execution_count": 6,
   "metadata": {},
   "outputs": [
    {
     "name": "stderr",
     "output_type": "stream",
     "text": [
      "ReId User:   0%|          | 0/2533 [00:00<?, ?it/s]c:\\Users\\Yaote\\anaconda3\\envs\\RoBERTa_pt\\Lib\\site-packages\\pymongo\\collection.py:1685: UserWarning: use an explicit session with no_cursor_timeout=True otherwise the cursor may still timeout after 30 minutes, for more info see https://mongodb.com/docs/v4.4/reference/method/cursor.noCursorTimeout/#session-idle-timeout-overrides-nocursortimeout\n",
      "  return Cursor(self, *args, **kwargs)\n",
      "ReId User: 100%|██████████| 2533/2533 [00:00<00:00, 6315.65it/s]\n"
     ]
    }
   ],
   "source": [
    "### 把user Id重新編碼\n",
    "client = MongoClient('127.0.0.1', 27017)\n",
    "db_new = client.Yelp_New\n",
    "user_new = db_new.user\n",
    "\n",
    "db_final = client.Yelp_Final\n",
    "user_final = db_final.user\n",
    "\n",
    "bar = tqdm(total=user_new.count_documents({}), desc='ReId User')\n",
    "tempIds = user_new.find({}, no_cursor_timeout=True, batch_size=10)\n",
    "tid = 0\n",
    "for item in tempIds:\n",
    "    item['newId'] = str(tid)\n",
    "    user_final.insert_one(item)\n",
    "    tid += 1\n",
    "    bar.update(1)\n",
    "tempIds.close()\n",
    "bar.close()"
   ]
  },
  {
   "cell_type": "code",
   "execution_count": 6,
   "metadata": {},
   "outputs": [
    {
     "name": "stderr",
     "output_type": "stream",
     "text": [
      "ReId User Friend: 100%|██████████| 1779/1779 [05:20<00:00,  5.55it/s]\n"
     ]
    }
   ],
   "source": [
    "### 把user friend重新編碼\n",
    "client = MongoClient('127.0.0.1', 27017)\n",
    "db_final = client.Yelp_Final\n",
    "user_final = db_final.user\n",
    "\n",
    "def getUserFriends(friends):\n",
    "    newFriends = []\n",
    "    sptFriend = friends.replace(' ', '').split(',')\n",
    "    for friend in sptFriend:\n",
    "        newFriend = user_final.find_one({'user_id': friend})\n",
    "        if newFriend is not None:\n",
    "            newFriends.append(newFriend['newId'])\n",
    "    return newFriends\n",
    "\n",
    "bar = tqdm(total=user_final.count_documents({}), desc='ReId User Friend')\n",
    "tempIds = user_final.find({}, no_cursor_timeout=True, batch_size=10)\n",
    "for item in tempIds:\n",
    "    user_final.update_one({\"_id\": item['_id']}, {\"$set\": {'newFriends': getUserFriends(item['friends'])}}, upsert=False)\n",
    "    bar.update(1)\n",
    "tempIds.close()\n",
    "bar.close()"
   ]
  },
  {
   "cell_type": "code",
   "execution_count": 11,
   "metadata": {},
   "outputs": [
    {
     "name": "stderr",
     "output_type": "stream",
     "text": [
      "Get Average Sentiment: 100%|██████████| 61189/61189 [00:09<00:00, 6642.78it/s]\n"
     ]
    }
   ],
   "source": [
    "### 取得平均情感向量\n",
    "client = MongoClient('127.0.0.1', 27017)\n",
    "db_final = client.Yelp_Final\n",
    "review_final = db_final.review\n",
    "sentiment_final = db_final.sentiment\n",
    "\n",
    "sentiment_vectors = {}\n",
    "bar = tqdm(total=review_final.count_documents({}), desc='Get Average Sentiment')\n",
    "tempIds = review_final.find({}, no_cursor_timeout=True, batch_size=10)\n",
    "for item in tempIds:\n",
    "    if item['newBusinessId'] not in sentiment_vectors:\n",
    "        sentiment_vectors[item['newBusinessId']] = np.array(item['sentiment_vector'])\n",
    "    else:\n",
    "        sentiment_vectors[item['newBusinessId']] = np.add(sentiment_vectors[item['newBusinessId']], item['sentiment_vector'])\n",
    "        sentiment_vectors[item['newBusinessId']] = np.divide(sentiment_vectors[item['newBusinessId']], 2)\n",
    "    bar.update(1)\n",
    "tempIds.close()\n",
    "bar.close()\n",
    "\n",
    "for key, value in sentiment_vectors.items():\n",
    "    sentiment_final.insert_one({'newBusinessId': key, 'sentiment_vector': value.tolist()})"
   ]
  },
  {
   "cell_type": "code",
   "execution_count": 7,
   "metadata": {},
   "outputs": [
    {
     "name": "stderr",
     "output_type": "stream",
     "text": [
      "Delete User: 100%|██████████| 1779/1779 [00:00<00:00, 63693.27it/s]\n"
     ]
    }
   ],
   "source": [
    "### 刪除newFirends為空的user\n",
    "client = MongoClient('127.0.0.1', 27017)\n",
    "db_final = client.Yelp_Final\n",
    "user_final = db_final.user\n",
    "\n",
    "bar = tqdm(total=user_final.count_documents({}), desc='Delete User')\n",
    "tempIds = user_final.find({}, no_cursor_timeout=True, batch_size=10)\n",
    "for item in tempIds:\n",
    "    if len(item['newFriends']) == 0:\n",
    "        user_final.delete_one({'_id': item['_id']})\n",
    "    bar.update(1)\n",
    "tempIds.close()\n",
    "bar.close()"
   ]
  },
  {
   "cell_type": "code",
   "execution_count": 30,
   "metadata": {},
   "outputs": [
    {
     "name": "stderr",
     "output_type": "stream",
     "text": [
      "ReId Review: 100%|██████████| 77596/77596 [03:27<00:00, 373.98it/s]\n"
     ]
    }
   ],
   "source": [
    "### 把review的business Id與user Id重新編碼\n",
    "client = MongoClient('127.0.0.1', 27017)\n",
    "db_new = client.Yelp_New\n",
    "review_new = db_new.review_sentiment\n",
    "\n",
    "db_final = client.Yelp_Final\n",
    "business_final = db_final.business\n",
    "user_final = db_final.user\n",
    "review_final = db_final.review\n",
    "\n",
    "def getNewId(collection, key, value):\n",
    "    item = collection.find_one({key: value})\n",
    "    if item is not None:\n",
    "        return item['newId']\n",
    "    return None\n",
    "\n",
    "bar = tqdm(total=review_new.count_documents({}), desc='ReId Review')\n",
    "tempIds = review_new.find({}, no_cursor_timeout=True, batch_size=10)\n",
    "for item in tempIds:\n",
    "    businessId = getNewId(business_final, 'business_id', item['business_id'])\n",
    "    userId = getNewId(user_final, 'user_id', item['user_id'])\n",
    "    item['newBusinessId'] = businessId\n",
    "    item['newUserId'] = userId\n",
    "    if businessId is not None and userId is not None:\n",
    "        review_final.insert_one(item)\n",
    "    bar.update(1)\n",
    "tempIds.close()\n",
    "bar.close()"
   ]
  },
  {
   "cell_type": "code",
   "execution_count": 33,
   "metadata": {},
   "outputs": [
    {
     "name": "stderr",
     "output_type": "stream",
     "text": [
      "Delete Business:   0%|          | 0/12360 [00:00<?, ?it/s]c:\\Users\\Yaote\\anaconda3\\envs\\RoBERTa_pt\\Lib\\site-packages\\pymongo\\collection.py:1685: UserWarning: use an explicit session with no_cursor_timeout=True otherwise the cursor may still timeout after 30 minutes, for more info see https://mongodb.com/docs/v4.4/reference/method/cursor.noCursorTimeout/#session-idle-timeout-overrides-nocursortimeout\n",
      "  return Cursor(self, *args, **kwargs)\n",
      "Delete Business: 100%|██████████| 12360/12360 [04:00<00:00, 51.45it/s]\n"
     ]
    }
   ],
   "source": [
    "### 刪除不在review中的business (因為上面把friends為空的business刪了)\n",
    "client = MongoClient('localhost', 27017)\n",
    "db_final = client.Yelp_Final\n",
    "business_final = db_final.business\n",
    "review_final = db_final.review\n",
    "\n",
    "def getIds():\n",
    "    bar = tqdm(total=business_final.count_documents({}), desc='Delete Business')\n",
    "    tempIds = business_final.find({}, no_cursor_timeout=True, batch_size=10)\n",
    "    for item in tempIds:\n",
    "        checkNeedRemove(item['business_id'])\n",
    "        bar.update(1)\n",
    "    tempIds.close()\n",
    "    bar.close()\n",
    "\n",
    "def checkNeedRemove(id):\n",
    "    count = review_final.count_documents({'business_id': id})\n",
    "    if count == 0:\n",
    "        business_final.delete_one({'business_id': id})\n",
    "\n",
    "getIds()"
   ]
  },
  {
   "cell_type": "code",
   "execution_count": 15,
   "metadata": {},
   "outputs": [
    {
     "name": "stderr",
     "output_type": "stream",
     "text": [
      "Delete Business:   0%|          | 0/829 [00:00<?, ?it/s]c:\\Users\\Yaote\\anaconda3\\envs\\RoBERTa_pt\\Lib\\site-packages\\pymongo\\collection.py:1685: UserWarning: use an explicit session with no_cursor_timeout=True otherwise the cursor may still timeout after 30 minutes, for more info see https://mongodb.com/docs/v4.4/reference/method/cursor.noCursorTimeout/#session-idle-timeout-overrides-nocursortimeout\n",
      "  return Cursor(self, *args, **kwargs)\n",
      "Delete Business: 100%|██████████| 829/829 [00:05<00:00, 148.12it/s]"
     ]
    },
    {
     "name": "stdout",
     "output_type": "stream",
     "text": [
      "0\n"
     ]
    },
    {
     "name": "stderr",
     "output_type": "stream",
     "text": [
      "\n"
     ]
    }
   ],
   "source": [
    "### 檢查最後有多少business的review數量不在15~200之間\n",
    "client = MongoClient('localhost', 27017)\n",
    "db_final = client.Yelp_Final\n",
    "business_final = db_final.business\n",
    "review_final = db_final.review\n",
    "\n",
    "bar = tqdm(total=business_final.count_documents({}), desc='Delete Business')\n",
    "tempIds = business_final.find({}, no_cursor_timeout=True, batch_size=10)\n",
    "needDelete = []\n",
    "for item in tempIds:\n",
    "    count = review_final.count_documents({'business_id': item['business_id']})\n",
    "    if count < 15 or count > 200:\n",
    "        needDelete.append(item['business_id'])\n",
    "    bar.update(1)\n",
    "tempIds.close()\n",
    "bar.close()\n",
    "\n",
    "print(len(needDelete))"
   ]
  },
  {
   "cell_type": "code",
   "execution_count": 16,
   "metadata": {},
   "outputs": [
    {
     "name": "stderr",
     "output_type": "stream",
     "text": [
      "Delete User: 100%|██████████| 1754/1754 [00:14<00:00, 121.04it/s]"
     ]
    },
    {
     "name": "stdout",
     "output_type": "stream",
     "text": [
      "1347\n"
     ]
    },
    {
     "name": "stderr",
     "output_type": "stream",
     "text": [
      "\n"
     ]
    }
   ],
   "source": [
    "### 檢查最後有多少user的review數量不在15~200之間\n",
    "client = MongoClient('localhost', 27017)\n",
    "db_final = client.Yelp_Final\n",
    "user_final = db_final.user\n",
    "review_final = db_final.review\n",
    "\n",
    "bar = tqdm(total=user_final.count_documents({}), desc='Delete User')\n",
    "tempIds = user_final.find({}, no_cursor_timeout=True, batch_size=10)\n",
    "needDelete = []\n",
    "for item in tempIds:\n",
    "    count = review_final.count_documents({'user_id': item['user_id']})\n",
    "    if count < 15 or count > 200:\n",
    "        needDelete.append(item['user_id'])\n",
    "    bar.update(1)\n",
    "tempIds.close()\n",
    "bar.close()\n",
    "\n",
    "print(len(needDelete))"
   ]
  },
  {
   "cell_type": "code",
   "execution_count": 7,
   "metadata": {},
   "outputs": [
    {
     "name": "stderr",
     "output_type": "stream",
     "text": [
      "c:\\Users\\Yaote\\anaconda3\\envs\\RoBERTa_pt\\Lib\\site-packages\\pymongo\\collection.py:1685: UserWarning: use an explicit session with no_cursor_timeout=True otherwise the cursor may still timeout after 30 minutes, for more info see https://mongodb.com/docs/v4.4/reference/method/cursor.noCursorTimeout/#session-idle-timeout-overrides-nocursortimeout\n",
      "  return Cursor(self, *args, **kwargs)\n"
     ]
    },
    {
     "name": "stdout",
     "output_type": "stream",
     "text": [
      "Business: 829\n",
      "User: 1754\n"
     ]
    }
   ],
   "source": [
    "### 檢查review表中有幾個unique user_id與business_id\n",
    "client = MongoClient('localhost', 27017)\n",
    "db_final = client.Yelp_Final\n",
    "review_final = db_final.review\n",
    "\n",
    "userIds = list()\n",
    "businessIds = list()\n",
    "\n",
    "def getIds():\n",
    "    tempIds = review_final.find({}, no_cursor_timeout=True, batch_size=10)\n",
    "    for item in tempIds:\n",
    "        userIds.append(item['user_id'])\n",
    "        businessIds.append(item['business_id'])\n",
    "    tempIds.close()\n",
    "    return userIds\n",
    "\n",
    "userIds = getIds()\n",
    "print('Business: ' + str(len(np.unique(businessIds))))\n",
    "print('User: ' + str(len(np.unique(userIds))))"
   ]
  },
  {
   "cell_type": "code",
   "execution_count": 3,
   "metadata": {},
   "outputs": [
    {
     "name": "stderr",
     "output_type": "stream",
     "text": [
      "Copy Data:   0%|          | 0/11456 [00:00<?, ?it/s]c:\\Users\\Yaote\\anaconda3\\envs\\RoBERTa_pt\\Lib\\site-packages\\pymongo\\collection.py:1685: UserWarning: use an explicit session with no_cursor_timeout=True otherwise the cursor may still timeout after 30 minutes, for more info see https://mongodb.com/docs/v4.4/reference/method/cursor.noCursorTimeout/#session-idle-timeout-overrides-nocursortimeout\n",
      "  return Cursor(self, *args, **kwargs)\n",
      "Copy Data: 100%|██████████| 11456/11456 [00:01<00:00, 6874.36it/s]\n",
      "Copy Data: 100%|██████████| 61189/61189 [00:29<00:00, 2050.35it/s]\n",
      "Copy Data: 100%|██████████| 1779/1779 [00:00<00:00, 5959.01it/s]\n"
     ]
    }
   ],
   "source": [
    "### 複製Final的表到Test\n",
    "client = MongoClient('localhost', 27017)\n",
    "db_final = client.Yelp_Final\n",
    "business_final = db_final.business\n",
    "review_final = db_final.review\n",
    "user_final = db_final.user\n",
    "\n",
    "db_test = client.Yelp_Test1\n",
    "business_test = db_test.business\n",
    "review_test = db_test.review\n",
    "user_test = db_test.user\n",
    "\n",
    "def copyData(collection, newCollection):\n",
    "    bar = tqdm(total=collection.count_documents({}), desc='Copy Data')\n",
    "    tempIds = collection.find({}, no_cursor_timeout=True, batch_size=10)\n",
    "    for item in tempIds:\n",
    "        newCollection.insert_one(item)\n",
    "        bar.update(1)\n",
    "    tempIds.close()\n",
    "    bar.close()\n",
    "\n",
    "copyData(business_final, business_test)\n",
    "copyData(review_final, review_test)\n",
    "copyData(user_final, user_test)"
   ]
  },
  {
   "cell_type": "code",
   "execution_count": 11,
   "metadata": {},
   "outputs": [
    {
     "name": "stdout",
     "output_type": "stream",
     "text": [
      "bandwidth: 0.005244939253454207\n"
     ]
    },
    {
     "name": "stderr",
     "output_type": "stream",
     "text": [
      "Get POI Cluster:   0%|          | 0/11456 [00:00<?, ?it/s]c:\\Users\\Yaote\\anaconda3\\envs\\RoBERTa_pt\\Lib\\site-packages\\pymongo\\collection.py:1685: UserWarning: use an explicit session with no_cursor_timeout=True otherwise the cursor may still timeout after 30 minutes, for more info see https://mongodb.com/docs/v4.4/reference/method/cursor.noCursorTimeout/#session-idle-timeout-overrides-nocursortimeout\n",
      "  return Cursor(self, *args, **kwargs)\n",
      "Get POI Cluster: 100%|██████████| 11456/11456 [00:02<00:00, 4356.52it/s]\n"
     ]
    }
   ],
   "source": [
    "### POI分群 by MeanShift\n",
    "client = MongoClient('localhost', 27017)\n",
    "db = client.Yelp_Final\n",
    "business = db.business\n",
    "\n",
    "# 提取經緯度數據並形成numpy陣列\n",
    "pois = list(business.find({}, {'newId': 1, 'latitude': 1, 'longitude': 1, '_id': 0}))\n",
    "coordinates = np.array([[float(poi['latitude']), float(poi['longitude'])] for poi in pois])\n",
    "bandwidth = estimate_bandwidth(coordinates, quantile=0.001, n_samples=len(coordinates))  # 調整quantile來控制帶寬大小\n",
    "print('bandwidth: ' + str(bandwidth))\n",
    "\n",
    "ids = [poi['newId'] for poi in pois]\n",
    "\n",
    "# 使用MeanShift進行聚類\n",
    "ms = MeanShift(bandwidth=bandwidth)\n",
    "ms.fit(coordinates)\n",
    "labels = ms.labels_\n",
    "\n",
    "neighbors = defaultdict(list)\n",
    "for poi_id, label in zip(ids, labels):\n",
    "    cluster_members = [ids[i] for i in range(len(ids)) if labels[i] == label]\n",
    "    cluster_members.remove(poi_id)\n",
    "    neighbors[poi_id] = cluster_members\n",
    "\n",
    "# 列印結果\n",
    "# for poi_id, neighbor_ids in neighbors.items():\n",
    "#     print(poi_id, neighbor_ids)\n",
    "\n",
    "bar = tqdm(total=business.count_documents({}), desc='Get POI Cluster')\n",
    "tempIds = business.find({}, no_cursor_timeout=True, batch_size=10)\n",
    "for item in tempIds:\n",
    "    business.update_one({\"_id\": item['_id']}, {\"$set\": {'newNeighbors': neighbors[item['newId']]}}, upsert=False)\n",
    "    bar.update(1)\n",
    "tempIds.close()\n",
    "bar.close()"
   ]
  },
  {
   "cell_type": "code",
   "execution_count": null,
   "metadata": {},
   "outputs": [],
   "source": [
    "### POI分群 by K-means\n",
    "client = MongoClient('localhost', 27017)\n",
    "db = client.Yelp_Final\n",
    "business = db.business\n",
    "\n",
    "# 提取經緯度數據並形成numpy陣列\n",
    "pois = list(business.find({}, {'newId': 1, 'latitude': 1, 'longitude': 1, '_id': 0}))\n",
    "coordinates = np.array([[float(poi['latitude']), float(poi['longitude'])] for poi in pois])\n",
    "ids = [poi['newId'] for poi in pois]\n",
    "\n",
    "# 使用KMeans進行聚類，設定K值（聚類數量）\n",
    "k = 10\n",
    "kmeans = KMeans(n_clusters=k, random_state=0)\n",
    "kmeans.fit(coordinates)\n",
    "labels = kmeans.labels_\n",
    "\n",
    "neighbors = defaultdict(list)\n",
    "for poi_id, label in zip(ids, labels):\n",
    "    cluster_members = [ids[i] for i in range(len(ids)) if labels[i] == label]\n",
    "    cluster_members.remove(poi_id)\n",
    "    neighbors[poi_id] = cluster_members\n",
    "\n",
    "# 列印結果\n",
    "# for poi_id, neighbor_ids in neighbors.items():\n",
    "#     print(poi_id, neighbor_ids)\n",
    "\n",
    "bar = tqdm(total=business.count_documents({}), desc='Get POI Cluster')\n",
    "tempIds = business.find({}, no_cursor_timeout=True, batch_size=10)\n",
    "for item in tempIds:\n",
    "    business.update_one({\"_id\": item['_id']}, {\"$set\": {'newNeighbors': neighbors[item['newId']]}}, upsert=False)\n",
    "    bar.update(1)\n",
    "tempIds.close()\n",
    "bar.close()"
   ]
  },
  {
   "cell_type": "code",
   "execution_count": 9,
   "metadata": {},
   "outputs": [
    {
     "name": "stderr",
     "output_type": "stream",
     "text": [
      "Get POI Cluster:   0%|          | 0/11456 [00:00<?, ?it/s]c:\\Users\\Yaote\\anaconda3\\envs\\RoBERTa_pt\\Lib\\site-packages\\pymongo\\collection.py:1685: UserWarning: use an explicit session with no_cursor_timeout=True otherwise the cursor may still timeout after 30 minutes, for more info see https://mongodb.com/docs/v4.4/reference/method/cursor.noCursorTimeout/#session-idle-timeout-overrides-nocursortimeout\n",
      "  return Cursor(self, *args, **kwargs)\n",
      "Get POI Cluster: 100%|██████████| 11456/11456 [00:21<00:00, 537.84it/s]\n"
     ]
    }
   ],
   "source": [
    "### POI分群 by DBSCAN\n",
    "client = MongoClient('localhost', 27017)\n",
    "db = client.Yelp_Final\n",
    "business = db.business\n",
    "\n",
    "# 提取經緯度數據並形成numpy陣列\n",
    "pois = list(business.find({}, {'newId': 1, 'latitude': 1, 'longitude': 1, '_id': 0}))\n",
    "coordinates = np.array([[float(poi['latitude']), float(poi['longitude'])] for poi in pois])\n",
    "ids = [poi['newId'] for poi in pois]\n",
    "\n",
    "# 使用DBSCAN進行聚類，設定epsilon和最小樣本數\n",
    "eps = 0.001\n",
    "min_samples = 3\n",
    "dbscan = DBSCAN(eps=eps, min_samples=min_samples)\n",
    "dbscan.fit(coordinates)\n",
    "labels = dbscan.labels_\n",
    "\n",
    "neighbors = defaultdict(list)\n",
    "for poi_id, label in zip(ids, labels):\n",
    "    cluster_members = [ids[i] for i in range(len(ids)) if labels[i] == label]\n",
    "    if poi_id in cluster_members:\n",
    "        cluster_members.remove(poi_id)\n",
    "    neighbors[poi_id] = cluster_members\n",
    "\n",
    "# 列印結果\n",
    "# for poi_id, neighbor_ids in neighbors.items():\n",
    "#     print(poi_id, neighbor_ids)\n",
    "\n",
    "bar = tqdm(total=business.count_documents({}), desc='Get POI Cluster')\n",
    "tempIds = business.find({}, no_cursor_timeout=True, batch_size=10)\n",
    "for item in tempIds:\n",
    "    business.update_one({\"_id\": item['_id']}, {\"$set\": {'newNeighbors': neighbors.get(item['newId'], [])}}, upsert=False)\n",
    "    bar.update(1)\n",
    "tempIds.close()\n",
    "bar.close()"
   ]
  },
  {
   "cell_type": "code",
   "execution_count": 9,
   "metadata": {},
   "outputs": [
    {
     "name": "stderr",
     "output_type": "stream",
     "text": [
      "Get POI TimeSlot:   0%|          | 0/61189 [00:00<?, ?it/s]c:\\Users\\Yaote\\anaconda3\\envs\\RoBERTa_pt\\Lib\\site-packages\\pymongo\\collection.py:1685: UserWarning: use an explicit session with no_cursor_timeout=True otherwise the cursor may still timeout after 30 minutes, for more info see https://mongodb.com/docs/v4.4/reference/method/cursor.noCursorTimeout/#session-idle-timeout-overrides-nocursortimeout\n",
      "  return Cursor(self, *args, **kwargs)\n",
      "Get POI TimeSlot: 100%|██████████| 61189/61189 [00:05<00:00, 10463.65it/s]\n",
      "Get POI TimeProb: 100%|██████████| 61189/61189 [00:16<00:00, 3637.65it/s]\n"
     ]
    }
   ],
   "source": [
    "### 取得時間特徵\n",
    "client = MongoClient('localhost', 27017)\n",
    "db = client.Yelp_Final\n",
    "review = db.review\n",
    "\n",
    "def getTimeSlot(dtString, hours_per_slot):\n",
    "    dtObj = datetime.strptime(dtString, '%d/%m/%Y %H:%M:%S')\n",
    "    timeSlot = dtObj.hour // hours_per_slot\n",
    "    return timeSlot\n",
    "\n",
    "def getTimeProb(newBusinessId, timeSlot):\n",
    "    total = sum(poiTimeSlot[newBusinessId])\n",
    "    return poiTimeSlot[newBusinessId][timeSlot] / total\n",
    "\n",
    "def generate_time_slot_list(hours_per_slot):\n",
    "    num_slots = 24 // hours_per_slot\n",
    "    return [0] * num_slots\n",
    "\n",
    "# 一個區間幾個小時\n",
    "hours_per_slot = 6\n",
    "poiTimeSlot = dict()\n",
    "\n",
    "bar = tqdm(total=review.count_documents({}), desc='Get POI TimeSlot')\n",
    "tempIds = review.find({}, no_cursor_timeout=True, batch_size=10)\n",
    "for item in tempIds:\n",
    "    if item['newBusinessId'] not in poiTimeSlot:\n",
    "        poiTimeSlot[item['newBusinessId']] = generate_time_slot_list(hours_per_slot)\n",
    "    poiTimeSlot[item['newBusinessId']][getTimeSlot(item['date'], hours_per_slot)] += 1\n",
    "    bar.update(1)\n",
    "tempIds.close()\n",
    "bar.close()\n",
    "\n",
    "bar = tqdm(total=review.count_documents({}), desc='Get POI TimeProb')\n",
    "tempIds = review.find({}, no_cursor_timeout=True, batch_size=10)\n",
    "for item in tempIds:\n",
    "    timeSlot = getTimeSlot(item['date'], hours_per_slot)\n",
    "    timeProb = getTimeProb(item['newBusinessId'], timeSlot)\n",
    "    review.update_one({\"_id\": item['_id']}, {\"$set\": {'timeProb': timeProb}}, upsert=False)\n",
    "    bar.update(1)\n",
    "tempIds.close()\n",
    "bar.close()"
   ]
  }
 ],
 "metadata": {
  "kernelspec": {
   "display_name": "RoBERTa_pt",
   "language": "python",
   "name": "python3"
  },
  "language_info": {
   "codemirror_mode": {
    "name": "ipython",
    "version": 3
   },
   "file_extension": ".py",
   "mimetype": "text/x-python",
   "name": "python",
   "nbconvert_exporter": "python",
   "pygments_lexer": "ipython3",
   "version": "3.11.9"
  }
 },
 "nbformat": 4,
 "nbformat_minor": 2
}
