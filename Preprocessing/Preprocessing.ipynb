{
 "cells": [
  {
   "cell_type": "code",
   "execution_count": 1,
   "metadata": {},
   "outputs": [],
   "source": [
    "'''''''''''''''''''''''''''''''''''''''''''''''''''''''''''''''''''''''''''\n",
    "說明：\n",
    "    做資料篩選\n",
    "\n",
    "注意事項：\n",
    "    1. 先把mongoDB建好，資料匯好\n",
    "    2. 資料庫的名字可以自己取，如果不一樣程式記得改\n",
    "    3. 我的做法是Yelp_Original用來存原始yelp資料、Yelp_New是我篩選後的資料\n",
    "    4. 資料表建議一樣用business、user、review\n",
    "'''''''''''''''''''''''''''''''''''''''''''''''''''''''''''''''''''''''''''\n",
    "\n",
    "# 先import會用到的庫\n",
    "from pymongo import MongoClient\n",
    "import numpy as np\n",
    "import pandas as pd\n",
    "import matplotlib.pyplot as plt\n",
    "from datetime import datetime\n",
    "import time\n",
    "from tqdm import tqdm"
   ]
  },
  {
   "cell_type": "code",
   "execution_count": 2,
   "metadata": {},
   "outputs": [
    {
     "name": "stderr",
     "output_type": "stream",
     "text": [
      "Check Review: 100%|██████████| 34039/34039 [20:35:13<00:00,  2.18s/it]   "
     ]
    },
    {
     "name": "stdout",
     "output_type": "stream",
     "text": [
      "Total Record: 16476\n"
     ]
    },
    {
     "name": "stderr",
     "output_type": "stream",
     "text": [
      "\n"
     ]
    }
   ],
   "source": [
    "### 1.篩選PA州評論數量為15~200的POI\n",
    "client = MongoClient('127.0.0.1', 27017)\n",
    "db = client.Yelp_Original\n",
    "business = db.business\n",
    "review = db.review\n",
    "\n",
    "db_new = client.Yelp_New\n",
    "business_new = db_new.business\n",
    "\n",
    "def getIds():\n",
    "    ids = list()\n",
    "    condition = [\n",
    "        {\n",
    "            '$match':{\n",
    "                'state': 'PA'\n",
    "            }\n",
    "        },{\n",
    "            '$group':{\n",
    "                '_id': '$business_id',\n",
    "                'count': {'$sum':1}\n",
    "            }\n",
    "        }\n",
    "    ]\n",
    "    for i in business.aggregate(condition):\n",
    "        if i['count'] == 1 and i != None and i != '':\n",
    "            ids.append(i['_id'])\n",
    "    return ids\n",
    "\n",
    "def checkReview(ids):\n",
    "    bar = tqdm(total=len(ids), desc='Check Review')\n",
    "    count = 0\n",
    "    for id in ids:\n",
    "        cond1 = {'business_id': id}\n",
    "        # 篩選星星數大於3的，如果要用在把註解拿掉，第二個temp刪掉\n",
    "        # cond2 = {'stars': {'$gte': 3}}\n",
    "        # temp = review.count_documents({\"$and\": [cond1, cond2]})\n",
    "        temp = review.count_documents(cond1)\n",
    "        if temp >= 15 and temp <= 200:\n",
    "            insert_business(id)\n",
    "            count = count + 1\n",
    "        bar.update(1)\n",
    "    bar.close()\n",
    "    return count\n",
    "        \n",
    "def insert_business(_id):\n",
    "    item = business.find({'business_id': _id})\n",
    "    for i in item:\n",
    "        business_new.insert_one(i)\n",
    "    item.close()\n",
    "\n",
    "tempIds = getIds()\n",
    "total = checkReview(tempIds)\n",
    "tqdm.write('Total Record: ' + str(total))"
   ]
  },
  {
   "cell_type": "code",
   "execution_count": 13,
   "metadata": {},
   "outputs": [
    {
     "name": "stderr",
     "output_type": "stream",
     "text": [
      "Processing: 100%|██████████| 16476/16476 [14:50:49<00:00,  3.24s/it]  \n",
      "\n",
      "\n",
      "\n",
      "\n",
      "\u001b[A\u001b[A\u001b[A\u001b[A                                                    \n",
      "\n",
      "\n",
      "\u001b[A\u001b[A\u001b[A                                                       \n",
      "\n",
      "\n",
      "\u001b[A\u001b[A\u001b[A\n",
      "\n",
      "\u001b[A\u001b[A"
     ]
    },
    {
     "name": "stdout",
     "output_type": "stream",
     "text": [
      "Total Record: 831070\n"
     ]
    }
   ],
   "source": [
    "### 2.將第一步的POI對應的評論插入到新的review表\n",
    "client = MongoClient('127.0.0.1', 27017)\n",
    "db = client.Yelp_Original\n",
    "review = db.review\n",
    "\n",
    "db_new = client.Yelp_New\n",
    "business_new = db_new.business\n",
    "review_new = db_new.review\n",
    "\n",
    "businessSize = business_new.count_documents({})\n",
    "\n",
    "def getIds():\n",
    "    bar = tqdm(total=businessSize, desc='Processing')\n",
    "    tempIds = business_new.find({}, no_cursor_timeout=True, batch_size=10)\n",
    "    for _id in tempIds:\n",
    "        insert_review(_id['business_id'])\n",
    "        bar.update(1)\n",
    "    tempIds.close()\n",
    "    bar.close()\n",
    "\n",
    "def insert_review(_id):\n",
    "    condition = [\n",
    "        {\n",
    "            '$match':{\n",
    "                'business_id': _id\n",
    "            }\n",
    "        }\n",
    "    ]\n",
    "    for item in review.aggregate(condition):\n",
    "        review_new.insert_one(item)\n",
    "\n",
    "getIds()\n",
    "tqdm.write('Total Record: ' + str(review_new.count_documents({})))"
   ]
  },
  {
   "cell_type": "code",
   "execution_count": 2,
   "metadata": {},
   "outputs": [
    {
     "name": "stderr",
     "output_type": "stream",
     "text": [
      "Delete Review:   0%|          | 0/461171 [00:00<?, ?it/s]c:\\Users\\Yaote\\AppData\\Local\\Programs\\Python\\Python312\\Lib\\site-packages\\pymongo\\collection.py:1697: UserWarning: use an explicit session with no_cursor_timeout=True otherwise the cursor may still timeout after 30 minutes, for more info see https://mongodb.com/docs/v4.4/reference/method/cursor.noCursorTimeout/#session-idle-timeout-overrides-nocursortimeout\n",
      "  return Cursor(self, *args, **kwargs)\n",
      "Delete Review: 100%|██████████| 461171/461171 [3:10:51<00:00, 40.27it/s]  \n"
     ]
    }
   ],
   "source": [
    "### 3.篩選review表，刪除字數小於60或日期<2017的評論\n",
    "client = MongoClient('localhost', 27017)\n",
    "db_new = client.Yelp_New\n",
    "review_new = db_new.review\n",
    "\n",
    "reviewSize = review_new.count_documents({})\n",
    "\n",
    "def getIds():\n",
    "    bar = tqdm(total=reviewSize, desc='Delete Review')\n",
    "    tempIds = review_new.find({}, no_cursor_timeout=True, batch_size=10)\n",
    "    for item in tempIds:\n",
    "        checkNeedRemove(item['review_id'], item['text'], item['date'])\n",
    "        bar.update(1)\n",
    "    tempIds.close()\n",
    "    bar.close()\n",
    "    \n",
    "def checkNeedRemove(id, text, date):\n",
    "    comparison_date = datetime(2017, 1, 1)\n",
    "    dt = datetime.strptime(date, '%d/%m/%Y %H:%M:%S')\n",
    "    if len(text) < 60 or dt < comparison_date:\n",
    "        review_new.delete_one({'review_id': id})\n",
    "\n",
    "getIds()"
   ]
  },
  {
   "cell_type": "code",
   "execution_count": 2,
   "metadata": {},
   "outputs": [
    {
     "name": "stderr",
     "output_type": "stream",
     "text": [
      "c:\\Users\\Yaote\\AppData\\Local\\Programs\\Python\\Python312\\Lib\\site-packages\\pymongo\\collection.py:1697: UserWarning: use an explicit session with no_cursor_timeout=True otherwise the cursor may still timeout after 30 minutes, for more info see https://mongodb.com/docs/v4.4/reference/method/cursor.noCursorTimeout/#session-idle-timeout-overrides-nocursortimeout\n",
      "  return Cursor(self, *args, **kwargs)\n",
      "Insert User: 100%|██████████| 181661/181661 [5:53:25<00:00,  8.57it/s]   \n"
     ]
    }
   ],
   "source": [
    "### 4.根據新review表，建立user表\n",
    "client = MongoClient('localhost', 27017)\n",
    "db = client.Yelp_Original\n",
    "user = db.user\n",
    "\n",
    "db_new = client.Yelp_New\n",
    "review_new = db_new.review\n",
    "user_new = db_new.user\n",
    "\n",
    "def getIds():\n",
    "    userIds = list()\n",
    "    tempIds = review_new.find({}, no_cursor_timeout=True, batch_size=10)\n",
    "    for item in tempIds:\n",
    "        userIds.append(item['user_id'])\n",
    "    tempIds.close()\n",
    "    return userIds\n",
    "\n",
    "def checkReviewCount(id):\n",
    "    count = review_new.count_documents({'user_id': id})\n",
    "    if count >= 15 and count <= 200:\n",
    "        insert_user(id)\n",
    "\n",
    "def insert_user(id):\n",
    "    condition=[\n",
    "        {\n",
    "            '$match':{\n",
    "                'user_id': id\n",
    "            }\n",
    "        }\n",
    "    ]\n",
    "    for item in user.aggregate(condition):\n",
    "        user_new.insert_one(item)\n",
    "\n",
    "userIds = getIds()\n",
    "bar = tqdm(total=len(np.unique(userIds)), desc='Insert User')\n",
    "for id in np.unique(userIds):\n",
    "    checkReviewCount(id)\n",
    "    bar.update(1)\n",
    "bar.close()"
   ]
  },
  {
   "cell_type": "code",
   "execution_count": 3,
   "metadata": {},
   "outputs": [
    {
     "name": "stderr",
     "output_type": "stream",
     "text": [
      "Delete Review: 100%|██████████| 411448/411448 [2:06:43<00:00, 54.12it/s]  \n"
     ]
    }
   ],
   "source": [
    "### 5.根據新user表，重新篩選review表\n",
    "client = MongoClient('localhost', 27017)\n",
    "db_new = client.Yelp_New\n",
    "review_new = db_new.review\n",
    "user_new = db_new.user\n",
    "\n",
    "def getIds():\n",
    "    bar = tqdm(total=review_new.count_documents({}), desc='Delete Review')\n",
    "    tempIds = review_new.find({}, no_cursor_timeout=True, batch_size=10)\n",
    "    for item in tempIds:\n",
    "        checkNeedRemove(item['review_id'], item['user_id'])\n",
    "        bar.update(1)\n",
    "    tempIds.close()\n",
    "    bar.close()\n",
    "\n",
    "def checkNeedRemove(id, user_id):\n",
    "    count = user_new.count_documents({'user_id': user_id})\n",
    "    if count == 0:\n",
    "        review_new.delete_one({'review_id': id})\n",
    "\n",
    "getIds()"
   ]
  },
  {
   "cell_type": "code",
   "execution_count": 4,
   "metadata": {},
   "outputs": [
    {
     "name": "stderr",
     "output_type": "stream",
     "text": [
      "Delete Business: 100%|██████████| 14783/14783 [08:52<00:00, 27.75it/s]\n"
     ]
    }
   ],
   "source": [
    "### 6.根據新review表，重新篩選business表\n",
    "client = MongoClient('localhost', 27017)\n",
    "db_new = client.Yelp_New\n",
    "business_new = db_new.business\n",
    "review_new = db_new.review\n",
    "\n",
    "def getIds():\n",
    "    bar = tqdm(total=business_new.count_documents({}), desc='Delete Business')\n",
    "    tempIds = business_new.find({}, no_cursor_timeout=True, batch_size=10)\n",
    "    for item in tempIds:\n",
    "        checkNeedRemove(item['business_id'])\n",
    "        bar.update(1)\n",
    "    tempIds.close()\n",
    "    bar.close()\n",
    "\n",
    "def checkNeedRemove(id):\n",
    "    count = review_new.count_documents({'business_id': id})\n",
    "    if count == 0:\n",
    "        business_new.delete_one({'business_id': id})\n",
    "\n",
    "getIds()"
   ]
  },
  {
   "cell_type": "code",
   "execution_count": 3,
   "metadata": {},
   "outputs": [
    {
     "name": "stderr",
     "output_type": "stream",
     "text": [
      "c:\\Users\\Yaote\\AppData\\Local\\Programs\\Python\\Python312\\Lib\\site-packages\\pymongo\\collection.py:1697: UserWarning: use an explicit session with no_cursor_timeout=True otherwise the cursor may still timeout after 30 minutes, for more info see https://mongodb.com/docs/v4.4/reference/method/cursor.noCursorTimeout/#session-idle-timeout-overrides-nocursortimeout\n",
      "  return Cursor(self, *args, **kwargs)\n"
     ]
    },
    {
     "name": "stdout",
     "output_type": "stream",
     "text": [
      "User: 2533\n",
      "Business: 12360\n"
     ]
    }
   ],
   "source": [
    "### 檢查review表中有幾個unique user_id與business_id\n",
    "client = MongoClient('localhost', 27017)\n",
    "db_new = client.Yelp_New\n",
    "review_new = db_new.review\n",
    "\n",
    "userIds = list()\n",
    "businessIds = list()\n",
    "\n",
    "def getIds():\n",
    "    tempIds = review_new.find({}, no_cursor_timeout=True, batch_size=10)\n",
    "    for item in tempIds:\n",
    "        userIds.append(item['user_id'])\n",
    "        businessIds.append(item['business_id'])\n",
    "    tempIds.close()\n",
    "    return userIds\n",
    "\n",
    "userIds = getIds()\n",
    "print('User: ' + str(len(np.unique(userIds))))\n",
    "print('Business: ' + str(len(np.unique(businessIds))))"
   ]
  }
 ],
 "metadata": {
  "kernelspec": {
   "display_name": "Python 3",
   "language": "python",
   "name": "python3"
  },
  "language_info": {
   "codemirror_mode": {
    "name": "ipython",
    "version": 3
   },
   "file_extension": ".py",
   "mimetype": "text/x-python",
   "name": "python",
   "nbconvert_exporter": "python",
   "pygments_lexer": "ipython3",
   "version": "3.11.9"
  }
 },
 "nbformat": 4,
 "nbformat_minor": 2
}
